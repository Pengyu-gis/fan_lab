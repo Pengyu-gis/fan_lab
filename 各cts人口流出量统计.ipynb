{
 "cells": [
  {
   "cell_type": "code",
   "execution_count": 2,
   "id": "cbd8ed92-9b1d-4b07-91a0-70353a18f711",
   "metadata": {},
   "outputs": [],
   "source": [
    "import pandas as pd"
   ]
  },
  {
   "cell_type": "code",
   "execution_count": 3,
   "id": "818eae36-aaf0-42b7-a6c6-e7bac396f394",
   "metadata": {},
   "outputs": [
    {
     "name": "stdout",
     "output_type": "stream",
     "text": [
      "              Date      geoid_o  pop_flows\n",
      "0       2019-01-01  48201100000     7411.0\n",
      "1       2019-01-01  48201210100     9450.0\n",
      "2       2019-01-01  48201210400     7911.0\n",
      "3       2019-01-01  48201210500     9044.0\n",
      "4       2019-01-01  48201210600     8446.0\n",
      "...            ...          ...        ...\n",
      "285851  2019-12-31  48201555701    22473.0\n",
      "285852  2019-12-31  48201555702    28002.0\n",
      "285853  2019-12-31  48201556000    20631.0\n",
      "285854  2019-12-31  48201980000        5.0\n",
      "285855  2019-12-31  48201980100     1545.0\n",
      "\n",
      "[285856 rows x 3 columns]\n"
     ]
    }
   ],
   "source": [
    "d0 = pd.read_csv(r\"mobilitygroup_48201_2019_year.csv\")\n",
    "d0 = pd.DataFrame(d0)\n",
    "d0.rename(columns={'newdate':'Date'},inplace=True)\n",
    "print(d0)"
   ]
  },
  {
   "cell_type": "code",
   "execution_count": 4,
   "id": "0f3400ba-7f61-441b-82aa-b6ab02b594ff",
   "metadata": {},
   "outputs": [
    {
     "name": "stdout",
     "output_type": "stream",
     "text": [
      "       type        Date\n",
      "0      Tmin  2019-01-01\n",
      "1    Normal  2019-01-02\n",
      "2      Tmin  2019-01-03\n",
      "3      Tmin  2019-01-04\n",
      "4      Tmin  2019-01-05\n",
      "..      ...         ...\n",
      "360  Normal  2019-12-27\n",
      "361  Normal  2019-12-28\n",
      "362  Normal  2019-12-29\n",
      "363    Tmin  2019-12-30\n",
      "364    Tmin  2019-12-31\n",
      "\n",
      "[365 rows x 2 columns]\n"
     ]
    }
   ],
   "source": [
    "#筛选出某一类型的极端气候数据\n",
    "df = pd.read_csv(r\"extremeT_48201_2019_type.csv\", usecols=['Date','type'])\n",
    "print(df)"
   ]
  },
  {
   "cell_type": "code",
   "execution_count": 5,
   "id": "1c150a92-f8dc-4c6b-95f2-e62d1bfc28e6",
   "metadata": {},
   "outputs": [],
   "source": [
    "#给mobility全年附上气候类型\n",
    "mf = pd.merge(d0,df,how='left')"
   ]
  },
  {
   "cell_type": "code",
   "execution_count": 71,
   "id": "fa9a96d9-ead6-4179-8e04-52b9cd1169aa",
   "metadata": {},
   "outputs": [],
   "source": [
    "#按月筛选\n",
    "m1 = mf[mf['Date'].str.contains('2019-12')]"
   ]
  },
  {
   "cell_type": "code",
   "execution_count": 72,
   "id": "e274d3d2-d70c-4389-b834-4b5c3839086a",
   "metadata": {},
   "outputs": [
    {
     "name": "stdout",
     "output_type": "stream",
     "text": [
      "              Date      geoid_o  pop_flows    type\n",
      "262499  2019-12-01  48201100000     8053.0  Normal\n",
      "262500  2019-12-01  48201210100    10155.0  Normal\n",
      "262501  2019-12-01  48201210400     9035.0  Normal\n",
      "262502  2019-12-01  48201210500    12937.0  Normal\n",
      "262503  2019-12-01  48201210600    12055.0  Normal\n",
      "...            ...          ...        ...     ...\n",
      "285851  2019-12-31  48201555701    22473.0    Tmin\n",
      "285852  2019-12-31  48201555702    28002.0    Tmin\n",
      "285853  2019-12-31  48201556000    20631.0    Tmin\n",
      "285854  2019-12-31  48201980000        5.0    Tmin\n",
      "285855  2019-12-31  48201980100     1545.0    Tmin\n",
      "\n",
      "[23357 rows x 4 columns]\n"
     ]
    }
   ],
   "source": [
    "print(m1)"
   ]
  },
  {
   "cell_type": "code",
   "execution_count": 73,
   "id": "514fbb2c-b7b9-46f2-85b0-4a9799d5e7b4",
   "metadata": {},
   "outputs": [],
   "source": [
    "#根据天气类型来求1月各CTs的人口通量mean\n",
    "m2=m1.groupby(['geoid_o','type']).mean()"
   ]
  },
  {
   "cell_type": "code",
   "execution_count": 74,
   "id": "d238557f-9809-426b-b4e0-fb97f2c2fe78",
   "metadata": {},
   "outputs": [
    {
     "name": "stdout",
     "output_type": "stream",
     "text": [
      "                       pop_flows\n",
      "geoid_o     type                \n",
      "48201100000 Normal   7687.450000\n",
      "            Tmin     8837.111111\n",
      "48201210100 Normal  11133.666667\n",
      "            Tmin    12200.333333\n",
      "48201210400 Normal   9683.904762\n",
      "...                          ...\n",
      "48201556000 Tmin    22381.666667\n",
      "48201980000 Normal      4.952381\n",
      "            Tmin        6.000000\n",
      "48201980100 Normal   1374.904762\n",
      "            Tmin     1576.888889\n",
      "\n",
      "[1572 rows x 1 columns]\n"
     ]
    }
   ],
   "source": [
    "print(m2)"
   ]
  },
  {
   "cell_type": "code",
   "execution_count": 75,
   "id": "ad7de8a6-cba6-46f9-88a5-919e2c8ba4ed",
   "metadata": {},
   "outputs": [],
   "source": [
    "#拆分表格\n",
    "m2.to_csv('extremeT_48201_2019_type_12.csv')"
   ]
  },
  {
   "cell_type": "code",
   "execution_count": 13,
   "id": "4f7409b0-ae4f-4b13-97b6-235e3024e5b9",
   "metadata": {},
   "outputs": [],
   "source": [
    "#求1月各CTs的极端气候与正常气候的人口通量mean的百分比\n",
    "m3 = pd.concat([m2, pd.DataFrame(columns=['percent'])])"
   ]
  },
  {
   "cell_type": "code",
   "execution_count": 6,
   "id": "d2fda418-0abc-4c18-a747-57f17fdf0fe0",
   "metadata": {},
   "outputs": [
    {
     "name": "stdout",
     "output_type": "stream",
     "text": [
      "     type        Date\n",
      "159  Tmax  2019-06-09\n",
      "170  Tmax  2019-06-20\n",
      "189  Tmax  2019-07-09\n",
      "190  Tmax  2019-07-10\n",
      "191  Tmax  2019-07-11\n",
      "192  Tmax  2019-07-12\n",
      "200  Tmax  2019-07-20\n",
      "209  Tmax  2019-07-29\n",
      "210  Tmax  2019-07-30\n",
      "211  Tmax  2019-07-31\n",
      "212  Tmax  2019-08-01\n",
      "213  Tmax  2019-08-02\n",
      "218  Tmax  2019-08-07\n",
      "219  Tmax  2019-08-08\n",
      "220  Tmax  2019-08-09\n",
      "221  Tmax  2019-08-10\n",
      "222  Tmax  2019-08-11\n",
      "223  Tmax  2019-08-12\n",
      "224  Tmax  2019-08-13\n",
      "225  Tmax  2019-08-14\n",
      "226  Tmax  2019-08-15\n",
      "227  Tmax  2019-08-16\n",
      "228  Tmax  2019-08-17\n",
      "229  Tmax  2019-08-18\n",
      "230  Tmax  2019-08-19\n",
      "231  Tmax  2019-08-20\n",
      "243  Tmax  2019-09-01\n",
      "244  Tmax  2019-09-02\n",
      "246  Tmax  2019-09-04\n",
      "247  Tmax  2019-09-05\n",
      "248  Tmax  2019-09-06\n",
      "249  Tmax  2019-09-07\n",
      "250  Tmax  2019-09-08\n",
      "251  Tmax  2019-09-09\n",
      "255  Tmax  2019-09-13\n",
      "256  Tmax  2019-09-14\n",
      "257  Tmax  2019-09-15\n"
     ]
    }
   ],
   "source": [
    "d2 = d1[d1['type'] == 'Tmax']\n",
    "print(d2)"
   ]
  },
  {
   "cell_type": "code",
   "execution_count": 64,
   "id": "dc614f2f-9a01-417e-8703-c19dc6934b41",
   "metadata": {},
   "outputs": [
    {
     "name": "stdout",
     "output_type": "stream",
     "text": [
      "           newdate      geoid_o  pop_flows\n",
      "1572    2019-01-03  48201100000     7381.0\n",
      "1573    2019-01-03  48201210100     9051.0\n",
      "1574    2019-01-03  48201210400     9213.0\n",
      "1575    2019-01-03  48201210500     9623.0\n",
      "1576    2019-01-03  48201210600    10295.0\n",
      "...            ...          ...        ...\n",
      "285851  2019-12-31  48201555701    22473.0\n",
      "285852  2019-12-31  48201555702    28002.0\n",
      "285853  2019-12-31  48201556000    20631.0\n",
      "285854  2019-12-31  48201980000        5.0\n",
      "285855  2019-12-31  48201980100     1545.0\n",
      "\n",
      "[26724 rows x 3 columns]\n"
     ]
    }
   ],
   "source": [
    "#isin一种方法不是匹配，而是等于后面列表中的值，要注意区别\n",
    "d3 = d0[d0['newdate'].isin(d2['Date'])]\n",
    "print(d3)"
   ]
  },
  {
   "cell_type": "code",
   "execution_count": 65,
   "id": "98ba5bf5-ad66-43b9-98ce-12b69fcad985",
   "metadata": {},
   "outputs": [
    {
     "name": "stdout",
     "output_type": "stream",
     "text": [
      "                pop_flows\n",
      "geoid_o                  \n",
      "48201100000   7840.235294\n",
      "48201210100   9642.500000\n",
      "48201210400   9873.823529\n",
      "48201210500  12256.764706\n",
      "48201210600  12958.294118\n",
      "...                   ...\n",
      "48201555701  22354.117647\n",
      "48201555702  29051.058824\n",
      "48201556000  18781.470588\n",
      "48201980000      5.000000\n",
      "48201980100   1482.441176\n",
      "\n",
      "[786 rows x 1 columns]\n"
     ]
    }
   ],
   "source": [
    "d4=d3.groupby(['geoid_o']).mean()\n",
    "print(d4)"
   ]
  },
  {
   "cell_type": "code",
   "execution_count": 66,
   "id": "fe207a6f-2f70-472c-bd1c-ae9719d85a4e",
   "metadata": {},
   "outputs": [],
   "source": [
    "d4.to_csv('mobility_48201_2019_WBGTmin.csv')"
   ]
  },
  {
   "cell_type": "code",
   "execution_count": null,
   "id": "f5bbae0c-6dbd-4e87-984a-62ca4dd76195",
   "metadata": {},
   "outputs": [],
   "source": []
  }
 ],
 "metadata": {
  "kernelspec": {
   "display_name": "Python 3 (ipykernel)",
   "language": "python",
   "name": "python3"
  },
  "language_info": {
   "codemirror_mode": {
    "name": "ipython",
    "version": 3
   },
   "file_extension": ".py",
   "mimetype": "text/x-python",
   "name": "python",
   "nbconvert_exporter": "python",
   "pygments_lexer": "ipython3",
   "version": "3.9.12"
  },
  "widgets": {
   "application/vnd.jupyter.widget-state+json": {
    "state": {},
    "version_major": 2,
    "version_minor": 0
   }
  }
 },
 "nbformat": 4,
 "nbformat_minor": 5
}
