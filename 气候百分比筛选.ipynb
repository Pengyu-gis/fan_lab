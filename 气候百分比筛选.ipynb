{
 "cells": [
  {
   "cell_type": "code",
   "execution_count": 1,
   "id": "075564ca-3128-4b2d-aff2-3c8b3ce7c54a",
   "metadata": {},
   "outputs": [],
   "source": [
    "import numpy as np\n",
    "import pandas as pd "
   ]
  },
  {
   "cell_type": "code",
   "execution_count": 2,
   "id": "9d8e9dfe-7ed2-4baa-a143-9c018c135d7d",
   "metadata": {},
   "outputs": [],
   "source": [
    "raw_data = pd.DataFrame()\n",
    "raw_data = pd.read_csv(r\"G:\\fanlab\\data\\Wet-Bulb Globe Temperature, Universal Thermal Climate Index, and Other Heat Metrics for US Counties, 2000–2020\\county climate\\48201.csv\")"
   ]
  },
  {
   "cell_type": "code",
   "execution_count": 3,
   "id": "70a6ef08-456c-40a0-8f56-b09f33f9f7c3",
   "metadata": {},
   "outputs": [
    {
     "name": "stdout",
     "output_type": "stream",
     "text": [
      "      Unnamed: 0  StCoFIPS        Date  Tmin_C  Tmax_C  Tmean_C  TDmin_C  \\\n",
      "0           2589     48201  2000-01-02   18.57   25.11    21.15    17.25   \n",
      "1           5697     48201  2000-01-03   12.94   21.73    19.35    -5.28   \n",
      "2           8805     48201  2000-01-04    4.51   12.69     8.45    -7.99   \n",
      "3          11913     48201  2000-01-05    0.31   13.47     7.07    -5.29   \n",
      "4          15021     48201  2000-01-06   10.03   16.21    13.69     6.10   \n",
      "...          ...       ...         ...     ...     ...      ...      ...   \n",
      "7664    23822301     48201  2020-12-26    5.40   18.98    11.67     3.64   \n",
      "7665    23825409     48201  2020-12-27   11.38   21.52    16.06     9.15   \n",
      "7666    23828517     48201  2020-12-28   14.31   22.49    17.53    12.94   \n",
      "7667    23831625     48201  2020-12-29   14.79   21.65    18.03    13.45   \n",
      "7668    23834733     48201  2020-12-30   17.97   24.15    19.77    15.28   \n",
      "\n",
      "      TDmax_C  TDmean_C  NETmin_C  ...  UTCImin_C  UTCImax_C  UTCImean_C  \\\n",
      "0       19.27     18.36     10.34  ...      10.82      24.81       16.79   \n",
      "1       20.15      9.83      4.69  ...       0.18      25.52       14.55   \n",
      "2       -2.87     -4.45     -5.70  ...     -12.56      11.33       -2.55   \n",
      "3        5.57     -0.06     -8.39  ...      -7.91      16.17        3.29   \n",
      "4       13.02     10.32      2.14  ...       4.58      12.45        8.78   \n",
      "...       ...       ...       ...  ...        ...        ...         ...   \n",
      "7664     9.33      6.78     -3.02  ...      -0.95      22.71        8.72   \n",
      "7665    14.04     11.72      2.07  ...       2.15      21.74       11.30   \n",
      "7666    15.25     14.12      6.96  ...       8.30      24.52       14.74   \n",
      "7667    14.89     14.10      6.33  ...       7.04      20.50       12.48   \n",
      "7668    19.14     17.69     10.53  ...      11.52      25.69       17.10   \n",
      "\n",
      "      Flag_T  Flag_TD  Flag_NET  Flag_HI  Flag_HX  Flag_WBGT  Flag_UTCI  \n",
      "0          0        0         0        0        0          0          0  \n",
      "1          0        0         0        0        0          0          0  \n",
      "2          0        0         0        0        0          0          0  \n",
      "3          0        0         0        0        0          0          0  \n",
      "4          0        0         0        0        0          0          0  \n",
      "...      ...      ...       ...      ...      ...        ...        ...  \n",
      "7664       0        0         0        0        0          0          0  \n",
      "7665       0        0         0        0        0          0          0  \n",
      "7666       0        0         0        0        0          0          0  \n",
      "7667       0        0         0        0        0          0          0  \n",
      "7668       0        0         0        0        0          0          0  \n",
      "\n",
      "[7669 rows x 31 columns]\n"
     ]
    }
   ],
   "source": [
    "print(raw_data)"
   ]
  },
  {
   "cell_type": "code",
   "execution_count": 4,
   "id": "7d498147-efc7-46b2-ae38-d35aa193c1c2",
   "metadata": {},
   "outputs": [],
   "source": [
    "import math\n",
    "a = math.ceil(len(raw_data)*0.1) "
   ]
  },
  {
   "cell_type": "code",
   "execution_count": 5,
   "id": "bd17d78e-db4c-49b1-8a33-2cbbd479d5d4",
   "metadata": {},
   "outputs": [
    {
     "name": "stdout",
     "output_type": "stream",
     "text": [
      "      index  Tmin_C    ID\n",
      "6590   6590   -5.47  6590\n",
      "3660   3660   -5.41  3660\n",
      "4049   4049   -4.91  4049\n",
      "3661   3661   -4.46  3661\n",
      "6215   6215   -4.33  6215\n",
      "...     ...     ...   ...\n",
      "1109   1109    5.61  1109\n",
      "1496   1496    5.63  1496\n",
      "3271   3271    5.63  3271\n",
      "3987   3987    5.63  3987\n",
      "4379   4379    5.64  4379\n",
      "\n",
      "[767 rows x 3 columns]\n"
     ]
    }
   ],
   "source": [
    "#把要分析的那一列数据提取出来\n",
    "Tmin = pd.DataFrame()\n",
    "Tmin = raw_data['Tmin_C']\n",
    "\n",
    "#在这列数据旁边增加一列序号?\n",
    "Tmin = Tmin.reset_index()\n",
    "Tmin['ID'] = range(len(Tmin))\n",
    "\n",
    "#用sorted函数排序\n",
    "Tmin_sorted = Tmin.sort_values(by=\"Tmin_C\",ascending=True) #先后按列索引1,2排序，将其 reverse 参数值改为 True，可实现降序排序\n",
    "Tmin_sorted50=Tmin_sorted.head(a)\n",
    "print(Tmin_sorted50)"
   ]
  },
  {
   "cell_type": "code",
   "execution_count": 6,
   "id": "96b92378-c59b-4e8e-99b5-dcf48ca104aa",
   "metadata": {},
   "outputs": [
    {
     "name": "stdout",
     "output_type": "stream",
     "text": [
      "      index  Tmax_C    ID\n",
      "246     246   41.68   246\n",
      "247     247   41.21   247\n",
      "242     242   40.14   242\n",
      "4256   4256   40.13  4256\n",
      "4927   4927   40.10  4927\n",
      "...     ...     ...   ...\n",
      "6734   6734   33.78  6734\n",
      "4942   4942   33.78  4942\n",
      "3507   3507   33.78  3507\n",
      "4536   4536   33.77  4536\n",
      "4602   4602   33.77  4602\n",
      "\n",
      "[767 rows x 3 columns]\n"
     ]
    }
   ],
   "source": [
    "Tmax = pd.DataFrame()\n",
    "Tmax = raw_data['Tmax_C']\n",
    "Tmax = Tmax.reset_index()\n",
    "Tmax['ID'] = range(len(Tmax))\n",
    "Tmax_sorted = Tmax.sort_values(by=\"Tmax_C\",ascending=False)\n",
    "Tmax_sorted50=Tmax_sorted.head(a)\n",
    "print(Tmax_sorted50)"
   ]
  },
  {
   "cell_type": "code",
   "execution_count": 7,
   "id": "7e0633f9-27e7-4c6e-a554-f92b5d911365",
   "metadata": {},
   "outputs": [
    {
     "name": "stdout",
     "output_type": "stream",
     "text": [
      "      index  HXmin_C    ID\n",
      "6590   6590    -9.91  6590\n",
      "3660   3660    -9.61  3660\n",
      "4049   4049    -9.31  4049\n",
      "6215   6215    -8.63  6215\n",
      "6576   6576    -8.36  6576\n",
      "...     ...      ...   ...\n",
      "335     335     3.90   335\n",
      "4350   4350     3.90  4350\n",
      "3222   3222     3.90  3222\n",
      "2181   2181     3.90  2181\n",
      "5815   5815     3.91  5815\n",
      "\n",
      "[767 rows x 3 columns]\n"
     ]
    }
   ],
   "source": [
    "HXmin = pd.DataFrame()\n",
    "HXmin = raw_data['HXmin_C']\n",
    "HXmin = HXmin.reset_index()\n",
    "HXmin['ID'] = range(len(HXmin))\n",
    "HXmin_sorted = HXmin.sort_values(by=\"HXmin_C\",ascending=True)\n",
    "HXmin_sorted50=HXmin_sorted.head(a)\n",
    "print(HXmin_sorted50)"
   ]
  },
  {
   "cell_type": "code",
   "execution_count": 8,
   "id": "54c00d0e-bc01-4b3e-bf76-f1be351de03c",
   "metadata": {
    "tags": []
   },
   "outputs": [
    {
     "name": "stdout",
     "output_type": "stream",
     "text": [
      "      index  HXmax_C    ID\n",
      "5700   5700    47.50  5700\n",
      "3877   3877    46.94  3877\n",
      "3879   3879    46.79  3879\n",
      "7547   7547    46.77  7547\n",
      "6064   6064    46.66  6064\n",
      "...     ...      ...   ...\n",
      "2773   2773    42.73  2773\n",
      "5693   5693    42.73  5693\n",
      "233     233    42.73   233\n",
      "2387   2387    42.73  2387\n",
      "6040   6040    42.73  6040\n",
      "\n",
      "[767 rows x 3 columns]\n"
     ]
    }
   ],
   "source": [
    "HXmax = pd.DataFrame()\n",
    "HXmax = raw_data['HXmax_C']\n",
    "HXmax = HXmax.reset_index()\n",
    "HXmax['ID'] = range(len(HXmax))\n",
    "HXmax_sorted = HXmax.sort_values(by=\"HXmax_C\",ascending=False)\n",
    "HXmax_sorted50=HXmax_sorted.head(a)\n",
    "print(HXmax_sorted50)"
   ]
  },
  {
   "cell_type": "code",
   "execution_count": 9,
   "id": "49168cb6-dd4a-463b-ba3f-7ea9a50818cc",
   "metadata": {},
   "outputs": [
    {
     "name": "stdout",
     "output_type": "stream",
     "text": [
      "      index  WBGTmax_C    ID\n",
      "3879   3879      36.26  3879\n",
      "6418   6418      36.05  6418\n",
      "7532   7532      36.03  7532\n",
      "7098   7098      35.85  7098\n",
      "3880   3880      35.65  3880\n",
      "...     ...        ...   ...\n",
      "5631   5631      31.96  5631\n",
      "4207   4207      31.96  4207\n",
      "1720   1720      31.95  1720\n",
      "2407   2407      31.95  2407\n",
      "4603   4603      31.95  4603\n",
      "\n",
      "[767 rows x 3 columns]\n"
     ]
    }
   ],
   "source": [
    "WBGTmax = pd.DataFrame()\n",
    "WBGTmax = raw_data['WBGTmax_C']\n",
    "WBGTmax = WBGTmax.reset_index()\n",
    "WBGTmax['ID'] = range(len(HXmax))\n",
    "WBGTmax_sorted = WBGTmax.sort_values(by=\"WBGTmax_C\",ascending=False)\n",
    "WBGTmax_sorted50=WBGTmax_sorted.head(a)\n",
    "print(WBGTmax_sorted50)"
   ]
  },
  {
   "cell_type": "code",
   "execution_count": 10,
   "id": "cfad35ec-7749-40bc-92af-bfa5bb1f3069",
   "metadata": {},
   "outputs": [
    {
     "name": "stdout",
     "output_type": "stream",
     "text": [
      "      index  WBGTmin_C    ID\n",
      "6590   6590      -7.72  6590\n",
      "3660   3660      -7.51  3660\n",
      "4049   4049      -7.15  4049\n",
      "6215   6215      -6.61  6215\n",
      "6576   6576      -6.45  6576\n",
      "...     ...        ...   ...\n",
      "5869   5869       3.79  5869\n",
      "356     356       3.79   356\n",
      "3374   3374       3.79  3374\n",
      "5076   5076       3.80  5076\n",
      "4445   4445       3.80  4445\n",
      "\n",
      "[767 rows x 3 columns]\n"
     ]
    }
   ],
   "source": [
    "WBGTmin = pd.DataFrame()\n",
    "WBGTmin = raw_data['WBGTmin_C']\n",
    "WBGTmin = WBGTmin.reset_index()\n",
    "WBGTmin['ID'] = range(len(HXmax))\n",
    "WBGTmin_sorted = WBGTmin.sort_values(by=\"WBGTmin_C\",ascending=True)\n",
    "WBGTmin_sorted50=WBGTmin_sorted.head(a)\n",
    "print(WBGTmin_sorted50)"
   ]
  },
  {
   "cell_type": "code",
   "execution_count": 14,
   "id": "1a7c5470-e799-4ece-b97a-8eb7ae9539d5",
   "metadata": {},
   "outputs": [],
   "source": [
    "#高温\n",
    "result1 = raw_data[(raw_data['Tmax_C'] >= min(Tmax_sorted50['Tmax_C'])) & (raw_data['Date'].str.contains('2019'))]\n",
    "result1.insert(loc=2,column='type',value='Tmax')\n",
    "#低温\n",
    "result2 = raw_data[(raw_data['Tmin_C'] <= max(Tmin_sorted50['Tmin_C'])) & (raw_data['Date'].str.contains('2019'))]\n",
    "result2.insert(loc=2,column='type',value='Tmin')\n",
    "#干旱\n",
    "result3 = raw_data[(raw_data['HXmin_C'] <= max(HXmin_sorted50['HXmin_C'])) & (raw_data['Date'].str.contains('2019'))]\n",
    "result3.insert(loc=2,column='type',value='HXmin')\n",
    "#湿润\n",
    "result4 = raw_data[(raw_data['HXmax_C'] >= min(HXmax_sorted50['HXmax_C'])) & (raw_data['Date'].str.contains('2019'))]\n",
    "result4.insert(loc=2,column='type',value='HXmax')\n",
    "#湿球低\n",
    "result5 = raw_data[(raw_data['WBGTmin_C'] <= max(WBGTmin_sorted50['WBGTmin_C'])) & (raw_data['Date'].str.contains('2019'))]\n",
    "result5.insert(loc=2,column='type',value='WBGTmin')\n",
    "#湿球高\n",
    "result6 = raw_data[(raw_data['WBGTmax_C'] >= min(WBGTmax_sorted50['WBGTmax_C'])) & (raw_data['Date'].str.contains('2019'))]\n",
    "result6.insert(loc=2,column='type',value='WBGTmax')\n",
    "#各类型合并\n",
    "result = pd.concat([result1,result2],ignore_index=True)"
   ]
  },
  {
   "cell_type": "code",
   "execution_count": 12,
   "id": "3b52cdac-8ae3-48d5-8f31-37ab8390b6ca",
   "metadata": {},
   "outputs": [],
   "source": [
    "climate = raw_data[(raw_data['Date'].str.contains('2019'))]"
   ]
  },
  {
   "cell_type": "code",
   "execution_count": 15,
   "id": "f0183a17-493d-45c1-a754-5f932c8df3cf",
   "metadata": {},
   "outputs": [
    {
     "name": "stdout",
     "output_type": "stream",
     "text": [
      "    Unnamed: 0  StCoFIPS  type        Date  Tmin_C  Tmax_C  Tmean_C  TDmin_C  \\\n",
      "0     22063173     48201  Tmax  2019-06-09   23.50   34.84    28.98    22.29   \n",
      "1     22097361     48201  Tmax  2019-06-20   26.28   33.99    29.55    23.81   \n",
      "2     22156413     48201  Tmax  2019-07-09   25.19   34.00    29.29    22.35   \n",
      "3     22159521     48201  Tmax  2019-07-10   24.72   34.06    29.39    22.46   \n",
      "4     22162629     48201  Tmax  2019-07-11   25.42   34.63    29.78    22.90   \n",
      "..         ...       ...   ...         ...     ...     ...      ...      ...   \n",
      "71    22663017     48201  Tmin  2019-12-19    0.96   13.85     7.41    -1.53   \n",
      "72    22675449     48201  Tmin  2019-12-23    5.14   19.13    10.97     3.92   \n",
      "73    22678557     48201  Tmin  2019-12-24    5.27   20.56    12.52     3.91   \n",
      "74    22697205     48201  Tmin  2019-12-30    5.29   15.22     9.83    -1.72   \n",
      "75    22700313     48201  Tmin  2019-12-31    3.17   14.76     9.42    -0.95   \n",
      "\n",
      "    TDmax_C  TDmean_C  ...  UTCImin_C  UTCImax_C  UTCImean_C  Flag_T  Flag_TD  \\\n",
      "0     25.68     23.37  ...      24.14      42.69       32.59       0        0   \n",
      "1     25.54     24.61  ...      25.08      38.95       31.04       0        0   \n",
      "2     24.94     23.79  ...      25.23      40.19       32.15       0        0   \n",
      "3     25.04     23.82  ...      26.43      41.69       33.31       0        0   \n",
      "4     25.96     24.54  ...      27.19      41.10       33.26       0        0   \n",
      "..      ...       ...  ...        ...        ...         ...     ...      ...   \n",
      "71     3.85      0.79  ...      -5.84      20.65        4.91       0        0   \n",
      "72     8.23      5.61  ...      -2.61      26.15        9.08       0        0   \n",
      "73    11.99      8.24  ...      -0.65      29.20       12.00       0        0   \n",
      "74     1.36      0.02  ...      -3.13      19.67        6.30       0        0   \n",
      "75     3.21      0.40  ...      -4.15      23.02        8.63       0        0   \n",
      "\n",
      "    Flag_NET  Flag_HI  Flag_HX  Flag_WBGT  Flag_UTCI  \n",
      "0          0        0        0          0          0  \n",
      "1          0        0        0          0          0  \n",
      "2          0        0        0          0          0  \n",
      "3          0        0        0          0          0  \n",
      "4          0        0        0          0          0  \n",
      "..       ...      ...      ...        ...        ...  \n",
      "71         0        0        0          0          0  \n",
      "72         0        0        0          0          0  \n",
      "73         0        0        0          0          0  \n",
      "74         0        0        0          0          0  \n",
      "75         0        0        0          0          0  \n",
      "\n",
      "[76 rows x 32 columns]\n"
     ]
    }
   ],
   "source": [
    "print(result)"
   ]
  },
  {
   "cell_type": "code",
   "execution_count": 16,
   "id": "01124bb9-69c5-46ad-b4a0-1faa47643632",
   "metadata": {},
   "outputs": [],
   "source": [
    "merge = pd.merge(result,climate,how='right')"
   ]
  },
  {
   "cell_type": "code",
   "execution_count": 21,
   "id": "b4a8f5ff-6e32-4d4e-aff5-69a7da8961ce",
   "metadata": {},
   "outputs": [],
   "source": [
    "#空值填充\n",
    "merge = merge.fillna('Normal')"
   ]
  },
  {
   "cell_type": "code",
   "execution_count": 22,
   "id": "b9357c6a-83d4-4f88-a120-551a1703c2dd",
   "metadata": {},
   "outputs": [
    {
     "name": "stdout",
     "output_type": "stream",
     "text": [
      "     Unnamed: 0  StCoFIPS    type        Date  Tmin_C  Tmax_C  Tmean_C  \\\n",
      "0      21569001     48201    Tmin  2019-01-01    4.48   16.98    11.43   \n",
      "1      21572109     48201  Normal  2019-01-02    9.53   13.53    10.68   \n",
      "2      21575217     48201    Tmin  2019-01-03    4.31   11.93     8.77   \n",
      "3      21578325     48201    Tmin  2019-01-04    2.70   15.14     7.97   \n",
      "4      21581433     48201    Tmin  2019-01-05    4.59   19.86    11.20   \n",
      "..          ...       ...     ...         ...     ...     ...      ...   \n",
      "360    22687881     48201  Normal  2019-12-27   13.25   20.45    16.83   \n",
      "361    22690989     48201  Normal  2019-12-28   17.54   23.96    20.71   \n",
      "362    22694097     48201  Normal  2019-12-29   10.32   20.01    15.93   \n",
      "363    22697205     48201    Tmin  2019-12-30    5.29   15.22     9.83   \n",
      "364    22700313     48201    Tmin  2019-12-31    3.17   14.76     9.42   \n",
      "\n",
      "     TDmin_C  TDmax_C  TDmean_C  ...  UTCImin_C  UTCImax_C  UTCImean_C  \\\n",
      "0       4.44     9.32      7.48  ...      -0.40      20.63        9.25   \n",
      "1       8.06    10.35      9.09  ...       0.99       8.65        4.15   \n",
      "2       2.60    10.99      7.26  ...      -2.38       9.60        2.64   \n",
      "3       1.34     6.98      3.87  ...      -5.61      22.24        4.85   \n",
      "4       3.36    10.08      6.89  ...      -0.54      26.84       10.50   \n",
      "..       ...      ...       ...  ...        ...        ...         ...   \n",
      "360    13.11    17.27     15.35  ...      11.14      22.20       16.00   \n",
      "361    17.12    20.44     18.85  ...      13.56      23.76       17.71   \n",
      "362     0.67    19.30     10.29  ...       0.05      20.85       11.61   \n",
      "363    -1.72     1.36      0.02  ...      -3.13      19.67        6.30   \n",
      "364    -0.95     3.21      0.40  ...      -4.15      23.02        8.63   \n",
      "\n",
      "     Flag_T  Flag_TD  Flag_NET  Flag_HI  Flag_HX  Flag_WBGT  Flag_UTCI  \n",
      "0         0        0         0        0        0          0          0  \n",
      "1         0        0         0        0        0          0          0  \n",
      "2         0        0         0        0        0          0          0  \n",
      "3         0        0         0        0        0          0          0  \n",
      "4         0        0         0        0        0          0          0  \n",
      "..      ...      ...       ...      ...      ...        ...        ...  \n",
      "360       0        0         0        0        0          0          0  \n",
      "361       0        0         0        0        0          0          0  \n",
      "362       0        0         0        0        0          0          0  \n",
      "363       0        0         0        0        0          0          0  \n",
      "364       0        0         0        0        0          0          0  \n",
      "\n",
      "[365 rows x 32 columns]\n"
     ]
    }
   ],
   "source": [
    "print(merge)"
   ]
  },
  {
   "cell_type": "code",
   "execution_count": 23,
   "id": "24792c0e-86df-48a8-b9e4-28e3077a7eb2",
   "metadata": {},
   "outputs": [],
   "source": [
    "merge.to_csv('extremeT_48201_2019_type.csv')"
   ]
  },
  {
   "cell_type": "code",
   "execution_count": 28,
   "id": "b118926b-e1d4-483b-8772-5fa005131d13",
   "metadata": {},
   "outputs": [
    {
     "data": {
      "image/png": "[encoded data removed]",
      "text/plain": [
       "<Figure size 960x640 with 1 Axes>"
      ]
     },
     "metadata": {
      "needs_background": "light"
     },
     "output_type": "display_data"
    }
   ],
   "source": [
    "import squarify\n",
    "import matplotlib.pyplot as plt\n",
    "# Import Data\n",
    "df_raw = pd.read_csv(\"extreme climate_48201_2019_type.csv\")\n",
    "\n",
    "# Prepare Data\n",
    "df = df_raw.groupby('type').size().reset_index(name='counts')\n",
    "labels = df.apply(lambda x: str(x[0]) + \"\\n (\" + str(x[1]) + \")\", axis=1)\n",
    "sizes = df['counts'].values.tolist()\n",
    "colors = [plt.cm.Spectral(i/float(len(labels))) for i in range(len(labels))]\n",
    "\n",
    "# Draw Plot\n",
    "plt.figure(figsize=(12,8), dpi= 80)\n",
    "squarify.plot(sizes=sizes, label=labels, color=colors, alpha=.8)\n",
    "\n",
    "# Decorate\n",
    "plt.title('Extreme climate Class')\n",
    "plt.axis('off')\n",
    "plt.show()"
   ]
  },
  {
   "cell_type": "code",
   "execution_count": 1,
   "id": "db190d5e-65c5-4872-86cd-38f11695095f",
   "metadata": {},
   "outputs": [],
   "source": []
  },
  {
   "cell_type": "code",
   "execution_count": null,
   "id": "b1d3d7b0-ff8b-430d-b9af-5ad169e2ed3a",
   "metadata": {},
   "outputs": [],
   "source": []
  }
 ],
 "metadata": {
  "kernelspec": {
   "display_name": "Python 3 (ipykernel)",
   "language": "python",
   "name": "python3"
  },
  "language_info": {
   "codemirror_mode": {
    "name": "ipython",
    "version": 3
   },
   "file_extension": ".py",
   "mimetype": "text/x-python",
   "name": "python",
   "nbconvert_exporter": "python",
   "pygments_lexer": "ipython3",
   "version": "3.9.12"
  },
  "widgets": {
   "application/vnd.jupyter.widget-state+json": {
    "state": {},
    "version_major": 2,
    "version_minor": 0
   }
  }
 },
 "nbformat": 4,
 "nbformat_minor": 5
}
